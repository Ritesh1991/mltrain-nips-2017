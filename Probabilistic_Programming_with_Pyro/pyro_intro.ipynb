{
 "cells": [
  {
   "cell_type": "markdown",
   "metadata": {},
   "source": [
    "# Probabilistic Programming in Pyro\n",
    "LEARN HOW TO CODE A PAPER WITH STATE OF THE ART FRAMEWORKS <br>\n",
    "NIPS 2017\n",
    "\n",
    "## Pyro Installation Instructions\n",
    "(FOR THOSE RUNNING THE NOTEBOOK FROM HOME)\n",
    "\n",
    "First install [PyTorch](http://pytorch.org).\n",
    "\n",
    "Install Pyro via pip:\n",
    "\n",
    "Python 2.7.*:\n",
    "```python\n",
    "pip install pyro-ppl\n",
    "```\n",
    "\n",
    "Python 3.5:\n",
    "\n",
    "```python\n",
    "pip3 install pyro-ppl\n",
    "```\n",
    "\n",
    "Alternatively, install Pyro from source:\n",
    "\n",
    "```python\n",
    "git clone git@github.com:uber/pyro.git\n",
    "cd pyro\n",
    "pip install .\n",
    "```\n",
    "Note that this particular notebook can be found on the nips-2017 branch of the [GitHub repo](https://github.com/uber/pyro) in the examples/nips2017 directory.\n",
    "\n",
    "\n",
    "#### Other dependencies\n",
    "Note that in order to run this notebook you will also need the following dependencies: matplotlib, observations, requests.\n",
    "\n",
    "## First steps\n",
    "\n",
    "Let's start with some imports"
   ]
  },
  {
   "cell_type": "code",
   "execution_count": 1,
   "metadata": {},
   "outputs": [
    {
     "name": "stdout",
     "output_type": "stream",
     "text": [
      "Requirement already satisfied: pyro-ppl in /home/nbcommon/anaconda2_501/lib/python2.7/site-packages\n",
      "Requirement already satisfied: networkx>=2.0.0 in /home/nbcommon/anaconda2_501/lib/python2.7/site-packages (from pyro-ppl)\n",
      "Requirement already satisfied: scipy>=0.19.0 in /home/nbcommon/anaconda2_501/lib/python2.7/site-packages (from pyro-ppl)\n",
      "Requirement already satisfied: observations>=0.1.4 in /home/nbcommon/anaconda2_501/lib/python2.7/site-packages (from pyro-ppl)\n",
      "Requirement already satisfied: numpy>=1.7 in /home/nbcommon/anaconda2_501/lib/python2.7/site-packages (from pyro-ppl)\n",
      "Requirement already satisfied: six>=1.10.0 in /home/nbcommon/anaconda2_501/lib/python2.7/site-packages (from pyro-ppl)\n",
      "Requirement already satisfied: graphviz>=0.8 in /home/nbcommon/anaconda2_501/lib/python2.7/site-packages (from pyro-ppl)\n",
      "Requirement already satisfied: cloudpickle>=0.3.1 in /home/nbcommon/anaconda2_501/lib/python2.7/site-packages (from pyro-ppl)\n",
      "Requirement already satisfied: torch in /home/nbcommon/anaconda2_501/lib/python2.7/site-packages (from pyro-ppl)\n",
      "Requirement already satisfied: decorator>=4.1.0 in /home/nbcommon/anaconda2_501/lib/python2.7/site-packages (from networkx>=2.0.0->pyro-ppl)\n",
      "Requirement already satisfied: pyyaml in /home/nbcommon/anaconda2_501/lib/python2.7/site-packages (from torch->pyro-ppl)\n"
     ]
    }
   ],
   "source": [
    "!pip install pyro-ppl"
   ]
  },
  {
   "cell_type": "code",
   "execution_count": 2,
   "metadata": {
    "collapsed": true
   },
   "outputs": [],
   "source": [
    "import torch\n",
    "from torch.autograd import Variable\n",
    "\n",
    "import pyro\n",
    "import pyro.distributions as dist"
   ]
  },
  {
   "cell_type": "markdown",
   "metadata": {},
   "source": [
    "Let's draw a sample from a unit normal distribution:"
   ]
  },
  {
   "cell_type": "code",
   "execution_count": 3,
   "metadata": {},
   "outputs": [
    {
     "name": "stdout",
     "output_type": "stream",
     "text": [
      "Variable containing:\n",
      " 1.7553\n",
      "[torch.FloatTensor of size 1]\n",
      "\n"
     ]
    }
   ],
   "source": [
    "mu = Variable(torch.zeros(1))   # mean zero\n",
    "sigma = Variable(torch.ones(1)) # unit variance\n",
    "x = dist.normal(mu, sigma)      # x is a sample from N(0,1)\n",
    "print(x)"
   ]
  },
  {
   "cell_type": "markdown",
   "metadata": {},
   "source": [
    "We can compute the log pdf of the sample as follows"
   ]
  },
  {
   "cell_type": "code",
   "execution_count": 4,
   "metadata": {},
   "outputs": [
    {
     "data": {
      "text/plain": [
       "Variable containing:\n",
       "-2.4596\n",
       "[torch.FloatTensor of size 1]"
      ]
     },
     "execution_count": 4,
     "metadata": {},
     "output_type": "execute_result"
    }
   ],
   "source": [
    "dist.normal.log_pdf(x, mu, sigma)"
   ]
  },
  {
   "cell_type": "markdown",
   "metadata": {},
   "source": [
    "We can also declare mu as a named parameter:"
   ]
  },
  {
   "cell_type": "code",
   "execution_count": 5,
   "metadata": {},
   "outputs": [
    {
     "name": "stdout",
     "output_type": "stream",
     "text": [
      "Variable containing:\n",
      " 0\n",
      "[torch.FloatTensor of size 1]\n",
      "\n"
     ]
    }
   ],
   "source": [
    "mu = pyro.param(\"mu\", Variable(torch.zeros(1), requires_grad=True))\n",
    "print(mu)"
   ]
  },
  {
   "cell_type": "markdown",
   "metadata": {},
   "source": [
    "## The VAE\n",
    "\n",
    "#### The Model\n",
    "First we define our decoder network"
   ]
  },
  {
   "cell_type": "code",
   "execution_count": 6,
   "metadata": {
    "collapsed": true
   },
   "outputs": [],
   "source": [
    "import torch.nn as nn\n",
    "\n",
    "z_dim=20\n",
    "hidden_dim=100\n",
    "\n",
    "nn_decoder = nn.Sequential(\n",
    "    nn.Linear(z_dim, hidden_dim), \n",
    "    nn.Softplus(), \n",
    "    nn.Linear(hidden_dim, 784), \n",
    "    nn.Sigmoid()\n",
    ")"
   ]
  },
  {
   "cell_type": "markdown",
   "metadata": {},
   "source": [
    "Now we can define our generative model conditioned on the observed mini-batch of images `x`:"
   ]
  },
  {
   "cell_type": "code",
   "execution_count": 7,
   "metadata": {
    "collapsed": true
   },
   "outputs": [],
   "source": [
    "# import helper functions for Variables with requires_grad=False\n",
    "from pyro.util import ng_zeros, ng_ones \n",
    "\n",
    "def model(x):\n",
    "    batch_size=x.size(0)\n",
    "    # register the decoder with Pyro (in particular all its parameters)\n",
    "    pyro.module(\"decoder\", nn_decoder)  \n",
    "    # sample the latent code z\n",
    "    z = pyro.sample(\"z\", dist.normal,   \n",
    "                    ng_zeros(batch_size, z_dim), \n",
    "                    ng_ones(batch_size, z_dim))\n",
    "    # decode z into bernoulli probabilities\n",
    "    bern_prob = nn_decoder(z)          \n",
    "    # observe the mini-batch of sampled images\n",
    "    return pyro.sample(\"x\", dist.bernoulli, bern_prob, obs=x) "
   ]
  },
  {
   "cell_type": "markdown",
   "metadata": {},
   "source": [
    "Note that instead of using the `obs` keyword in the `pyro.sample` statement we could also have used `pyro.condition`. For details on how that works see [this tutorial](http://pyro.ai/examples/intro_part_ii.html)."
   ]
  },
  {
   "cell_type": "markdown",
   "metadata": {},
   "source": [
    "#### The guide\n",
    "\n",
    "In order to do inference, we need to define a guide (a.k.a. an inference network). First we define the encoder network. Let's go ahead and define it explicitly instead of using `nn.Sequential`:"
   ]
  },
  {
   "cell_type": "code",
   "execution_count": 10,
   "metadata": {
    "collapsed": true
   },
   "outputs": [],
   "source": [
    "class Encoder(nn.Module):\n",
    "    def __init__(self, z_dim=20, hidden_dim=100):\n",
    "        super(Encoder, self).__init__()\n",
    "        # setup the three linear transformations used\n",
    "        self.fc1 = nn.Linear(784, hidden_dim)\n",
    "        self.fc21 = nn.Linear(hidden_dim, z_dim)\n",
    "        self.fc22 = nn.Linear(hidden_dim, z_dim)\n",
    "        # setup the non-linearity\n",
    "        self.softplus = nn.Softplus()\n",
    "        \n",
    "    def forward(self, x):\n",
    "        # define the forward computation on the image x\n",
    "        # first compute the hidden units\n",
    "        hidden = self.softplus(self.fc1(x))\n",
    "        # then return a mean vector and a (positive) square root covariance\n",
    "        # each of size batch_size x z_dim\n",
    "        z_mu = self.fc21(hidden)\n",
    "        z_sigma = torch.exp(self.fc22(hidden))\n",
    "        return z_mu, z_sigma"
   ]
  },
  {
   "cell_type": "markdown",
   "metadata": {},
   "source": [
    "Now we can define the guide:"
   ]
  },
  {
   "cell_type": "code",
   "execution_count": 11,
   "metadata": {
    "collapsed": true
   },
   "outputs": [],
   "source": [
    "nn_encoder = Encoder()\n",
    "\n",
    "def guide(x):\n",
    "    # register the encoder with Pyro\n",
    "    pyro.module(\"encoder\", nn_encoder)\n",
    "    # encode the mini-batch of images x\n",
    "    mu_z, sig_z = nn_encoder(x)\n",
    "    # sample and return the latent code z\n",
    "    return pyro.sample(\"z\", dist.normal, mu_z, sig_z)"
   ]
  },
  {
   "cell_type": "markdown",
   "metadata": {},
   "source": [
    "#### Inference\n",
    "Now we're ready to do inference. First we setup our optimizer"
   ]
  },
  {
   "cell_type": "code",
   "execution_count": 12,
   "metadata": {
    "collapsed": true
   },
   "outputs": [],
   "source": [
    "from pyro.optim import Adam\n",
    "optimizer = Adam({\"lr\": 1.0e-3})"
   ]
  },
  {
   "cell_type": "markdown",
   "metadata": {},
   "source": [
    "Now we setup the `SVI` inference algorithm, which we will use to take gradient steps on the ELBO objective function. Note that `model` and `guide` both have the same call signature (namely they take in a mini-batch of images `x`)."
   ]
  },
  {
   "cell_type": "code",
   "execution_count": 13,
   "metadata": {
    "collapsed": true
   },
   "outputs": [],
   "source": [
    "from pyro.infer import SVI\n",
    "svi = SVI(model, guide, optimizer, loss=\"ELBO\")"
   ]
  },
  {
   "cell_type": "markdown",
   "metadata": {},
   "source": [
    "Let's setup a basic training loop. First we setup the data loader:"
   ]
  },
  {
   "cell_type": "code",
   "execution_count": 14,
   "metadata": {},
   "outputs": [
    {
     "name": "stdout",
     "output_type": "stream",
     "text": [
      "Downloading http://yann.lecun.com/exdb/mnist/train-images-idx3-ubyte.gz\n",
      "Downloading http://yann.lecun.com/exdb/mnist/train-labels-idx1-ubyte.gz\n",
      "Downloading http://yann.lecun.com/exdb/mnist/t10k-images-idx3-ubyte.gz\n",
      "Downloading http://yann.lecun.com/exdb/mnist/t10k-labels-idx1-ubyte.gz\n",
      "Processing...\n",
      "Done!\n"
     ]
    }
   ],
   "source": [
    "import torchvision.datasets as dset\n",
    "import torchvision.transforms as transforms\n",
    "\n",
    "batch_size=250\n",
    "trans = transforms.ToTensor()\n",
    "train_set = dset.MNIST(root='./mnist_data', train=True, \n",
    "                       transform=trans, download=True)\n",
    "train_loader = torch.utils.data.DataLoader(dataset=train_set, \n",
    "                                           batch_size=batch_size,\n",
    "                                           shuffle=True)"
   ]
  },
  {
   "cell_type": "markdown",
   "metadata": {},
   "source": [
    "Let's do 3 epochs of training and report the ELBO averaged per data point for each epoch (note that this can be somewhat slow on Azure ML)"
   ]
  },
  {
   "cell_type": "code",
   "execution_count": 15,
   "metadata": {},
   "outputs": [
    {
     "name": "stdout",
     "output_type": "stream",
     "text": [
      "[epoch 000]  average training ELBO: -221.2681\n",
      "[epoch 001]  average training ELBO: -162.0203\n",
      "[epoch 002]  average training ELBO: -145.6284\n"
     ]
    }
   ],
   "source": [
    "num_epochs = 3\n",
    "\n",
    "for epoch in range(num_epochs):\n",
    "    # initialize loss accumulator\n",
    "    epoch_loss = 0.\n",
    "    # do a training epoch over each mini-batch x returned\n",
    "    # by the data loader\n",
    "    for x, _ in train_loader:\n",
    "        # wrap the mini-batch of images in a PyTorch Variable\n",
    "        x = Variable(x.view(-1, 784))\n",
    "        # do ELBO gradient and accumulate loss\n",
    "        epoch_loss += svi.step(x)\n",
    "\n",
    "    # report training diagnostics\n",
    "    normalizer = len(train_loader.dataset)\n",
    "    print(\"[epoch %03d]  average training ELBO: %.4f\" % (epoch, -epoch_loss / normalizer))"
   ]
  },
  {
   "cell_type": "markdown",
   "metadata": {},
   "source": [
    "So much for the VAE. For a more fleshed out implementation and some results please see the [tutorial](http://pyro.ai/examples/vae.html).\n",
    "\n",
    "## Recursion with random control flow\n",
    "\n",
    "Let's define the geometric distribution in terms of draws from a bernoulli distribution:"
   ]
  },
  {
   "cell_type": "code",
   "execution_count": 16,
   "metadata": {},
   "outputs": [
    {
     "name": "stdout",
     "output_type": "stream",
     "text": [
      "0   1   1   0   2   2   2   0   0   0   4   5   0   0   0  \n"
     ]
    }
   ],
   "source": [
    "def geom(num_trials=0, bern_prob=0.5):\n",
    "    p = Variable(torch.Tensor([bern_prob]))\n",
    "    x = pyro.sample('x{}'.format(num_trials), dist.bernoulli, p)\n",
    "    if x.data[0] == 1:\n",
    "        return num_trials  # terminate recursion\n",
    "    else:\n",
    "        return geom(num_trials + 1, bern_prob)  # continue recursion\n",
    "\n",
    "# let's draw 15 samples \n",
    "for _ in range(15):\n",
    "    print(\"%d  \" % geom()),"
   ]
  },
  {
   "cell_type": "markdown",
   "metadata": {},
   "source": [
    "Note that the random variables in `geom` are generated dynamically and that different calls to `geom` can have different numbers of random variables. Also note that we take care to assign unique names to each dynamically generated random variable.\n",
    "\n",
    "If we crank down the bernoulli probability (so that the recursion tends to terminate after a larger number of steps) we get a geometric distribution with more of a tail:"
   ]
  },
  {
   "cell_type": "code",
   "execution_count": 17,
   "metadata": {},
   "outputs": [
    {
     "name": "stdout",
     "output_type": "stream",
     "text": [
      "7   4   4   6   24   8   23   11   2   1   3   2   15   0   6  \n"
     ]
    }
   ],
   "source": [
    "for _ in range(15):\n",
    "    print(\"%d  \" % geom(bern_prob=0.1)),"
   ]
  },
  {
   "cell_type": "markdown",
   "metadata": {},
   "source": [
    "## AIR\n",
    "\n",
    "#### The prior\n",
    "\n",
    "Let's build on `geom()` above to construct a recursive prior over images. First we need a prior over a single object in an image. Just like for the VAE, this prior is going to involve a decoder network. So we define that first:"
   ]
  },
  {
   "cell_type": "code",
   "execution_count": 18,
   "metadata": {
    "collapsed": true
   },
   "outputs": [],
   "source": [
    "from torch.nn.functional import relu, sigmoid, grid_sample, affine_grid\n",
    "\n",
    "z_dim=50\n",
    "\n",
    "# this decodes latents z into (bernoulli pixel intensities for)\n",
    "# 20x20 sized objects\n",
    "class Decoder(nn.Module):\n",
    "    def __init__(self, hidden_dim=200):\n",
    "        super(Decoder, self).__init__()\n",
    "        self.l1 = nn.Linear(z_dim, hidden_dim)\n",
    "        self.l2 = nn.Linear(hidden_dim, 20*20)\n",
    "\n",
    "    def forward(self, z_what):\n",
    "        h = relu(self.l1(z_what))\n",
    "        return sigmoid(self.l2(h))\n",
    "\n",
    "decoder = Decoder()"
   ]
  },
  {
   "cell_type": "markdown",
   "metadata": {},
   "source": [
    "Now we build the prior over a single object. Note that this prior uses (differentiable) spatial transformers to position the sampled object within the image. Most of the complexity in this code snippet is on the spatial transformer side."
   ]
  },
  {
   "cell_type": "code",
   "execution_count": 19,
   "metadata": {
    "collapsed": true
   },
   "outputs": [],
   "source": [
    "# define the prior probabilities for our random variables\n",
    "z_where_prior_mu = Variable(torch.Tensor([3, 0, 0]))\n",
    "z_where_prior_sigma = Variable(torch.Tensor([0.1, 1, 1]))\n",
    "z_what_prior_mu = ng_zeros(50)\n",
    "z_what_prior_sigma = ng_ones(50)\n",
    "\n",
    "def expand_z_where(z_where):\n",
    "    # Takes 3-dimensional vectors, and massages them into \n",
    "    # 2x3 matrices with elements like so:\n",
    "    # [s,x,y] -> [[s,0,x],\n",
    "    #             [0,s,y]]\n",
    "    n = z_where.size(0)\n",
    "    expansion_indices = Variable(torch.LongTensor([1, 0, 2, 0, 1, 3]))\n",
    "    out = torch.cat((ng_zeros([1, 1]).expand(n, 1), z_where), 1)\n",
    "    return torch.index_select(out, 1, expansion_indices).view(n, 2, 3)\n",
    "\n",
    "# takes the object generated by the decoder and places it \n",
    "# within a larger image with the desired pose\n",
    "def object_to_image(z_where, obj):\n",
    "    n = obj.size(0)\n",
    "    theta = expand_z_where(z_where)\n",
    "    grid = affine_grid(theta, torch.Size((n, 1, 50, 50)))\n",
    "    out = grid_sample(obj.view(n, 1, 20, 20), grid)\n",
    "    return out.view(n, 50, 50)\n",
    "\n",
    "def prior_step(t):\n",
    "    # Sample object pose. This is a 3-dimensional vector representing \n",
    "    # x,y position and size.\n",
    "    z_where = pyro.sample('z_where_{}'.format(t),\n",
    "                          dist.normal,\n",
    "                          z_where_prior_mu,\n",
    "                          z_where_prior_sigma,\n",
    "                          batch_size=1)\n",
    "\n",
    "    # Sample object code. This is a 50-dimensional vector.\n",
    "    z_what = pyro.sample('z_what_{}'.format(t),\n",
    "                         dist.normal,\n",
    "                         z_what_prior_mu,\n",
    "                         z_what_prior_sigma,\n",
    "                         batch_size=1)\n",
    "\n",
    "    # Map code to pixel space using the neural network.\n",
    "    y_att = decoder(z_what)\n",
    "\n",
    "    # Position/scale object within larger image.\n",
    "    y = object_to_image(z_where, y_att)\n",
    "\n",
    "    return y"
   ]
  },
  {
   "cell_type": "markdown",
   "metadata": {},
   "source": [
    "Let's draw a few samples from the object prior to see how this looks."
   ]
  },
  {
   "cell_type": "code",
   "execution_count": 20,
   "metadata": {},
   "outputs": [
    {
     "data": {
      "image/png": "[encoded data removed]",
      "text/plain": [
       "<matplotlib.figure.Figure at 0x11d3b8290>"
      ]
     },
     "metadata": {},
     "output_type": "display_data"
    }
   ],
   "source": [
    "from matplotlib import pyplot as plt\n",
    "%matplotlib inline\n",
    "\n",
    "samples = [prior_step(0)[0] for _ in range(8)]\n",
    "\n",
    "def show_images(samples):\n",
    "    plt.rcParams.update({'figure.figsize': [10, 1.6] })\n",
    "    f, axarr = plt.subplots(1, len(samples))\n",
    "\n",
    "    for i, img in enumerate(samples):\n",
    "        axarr[i].imshow(img.data.numpy(), cmap='gray')\n",
    "        axarr[i].axis('off')\n",
    "\n",
    "    plt.show()\n",
    "    \n",
    "show_images(samples)"
   ]
  },
  {
   "cell_type": "markdown",
   "metadata": {},
   "source": [
    "Now we can use `prior_step` to define a recursive prior over images:"
   ]
  },
  {
   "cell_type": "code",
   "execution_count": 21,
   "metadata": {
    "collapsed": true
   },
   "outputs": [],
   "source": [
    "def geom_image_prior(x, step=0):\n",
    "    p = Variable(torch.Tensor([0.4]))\n",
    "    i = pyro.sample('i{}'.format(step), dist.bernoulli, p)\n",
    "    if i.data[0] == 1:\n",
    "        return x\n",
    "    else:\n",
    "        # add sampled object to canvas\n",
    "        x = x + prior_step(step)  \n",
    "        return geom_image_prior(x, step + 1)"
   ]
  },
  {
   "cell_type": "markdown",
   "metadata": {},
   "source": [
    "Let's visualize a few draws from `geom_image_prior`:"
   ]
  },
  {
   "cell_type": "code",
   "execution_count": 22,
   "metadata": {},
   "outputs": [
    {
     "data": {
      "image/png": "[encoded data removed]",
      "text/plain": [
       "<matplotlib.figure.Figure at 0x11260add0>"
      ]
     },
     "metadata": {},
     "output_type": "display_data"
    },
    {
     "data": {
      "image/png": "[encoded data removed]",
      "text/plain": [
       "<matplotlib.figure.Figure at 0x1228cbbd0>"
      ]
     },
     "metadata": {},
     "output_type": "display_data"
    }
   ],
   "source": [
    "x_empty = ng_zeros(1, 50, 50)\n",
    "samples = [geom_image_prior(x_empty)[0] for _ in range(16)]\n",
    "show_images(samples[0:8])\n",
    "show_images(samples[8:16])"
   ]
  },
  {
   "cell_type": "markdown",
   "metadata": {},
   "source": [
    "We see that the images sampled from the prior have a variable number of objects, with the objects placed throughout the image. The objects are also allowed to stack (so that pixel intensities can exceed 1)."
   ]
  },
  {
   "cell_type": "markdown",
   "metadata": {},
   "source": [
    "#### Reconstructing images with the trained model/guide pair\n",
    "\n",
    "Let's take advantage of the fact that someone has trained the model and guide for us and see what we can do. One nice thing about amortized variational inference is that it allows us to use the guide (i.e. the inference network) to make quick test time predictions. Let's see how that goes in Pyro. First some imports:"
   ]
  },
  {
   "cell_type": "code",
   "execution_count": 23,
   "metadata": {
    "collapsed": true
   },
   "outputs": [],
   "source": [
    "# this is the dataset we used for training\n",
    "from observations import multi_mnist \n",
    "import numpy as np\n",
    "\n",
    "import pyro.poutine as poutine\n",
    "\n",
    "from air import AIR, latents_to_tensor\n",
    "from viz import draw_many, tensor_to_objs, arr2img"
   ]
  },
  {
   "cell_type": "markdown",
   "metadata": {},
   "source": [
    "Next we load and preprocess the test set:"
   ]
  },
  {
   "cell_type": "code",
   "execution_count": 24,
   "metadata": {},
   "outputs": [
    {
     "name": "stdout",
     "output_type": "stream",
     "text": [
      ">> Downloading ./multi_mnist_data/train-images-idx3-ubyte.gz.part \n",
      ">> [9.5 MB/9.5 MB] 105% @678.7 KB/s,[0s remaining, 15s elapsed]        \n",
      "URL https://storage.googleapis.com/cvdf-datasets/mnist/train-images-idx3-ubyte.gz downloaded to ./multi_mnist_data/train-images-idx3-ubyte.gz \n",
      ">> Downloading ./multi_mnist_data/train-labels-idx1-ubyte.gz.part \n",
      ">> [28.2 KB/28.2 KB] 3630% @3.0 MB/s,[0s remaining, 0s elapsed]        \n",
      "URL https://storage.googleapis.com/cvdf-datasets/mnist/train-labels-idx1-ubyte.gz downloaded to ./multi_mnist_data/train-labels-idx1-ubyte.gz \n",
      ">> Downloading ./multi_mnist_data/t10k-images-idx3-ubyte.gz.part \n",
      ">> [1.6 MB/1.6 MB] 127% @972.3 KB/s,[0s remaining, 2s elapsed]        \n",
      "URL https://storage.googleapis.com/cvdf-datasets/mnist/t10k-images-idx3-ubyte.gz downloaded to ./multi_mnist_data/t10k-images-idx3-ubyte.gz \n",
      ">> Downloading ./multi_mnist_data/t10k-labels-idx1-ubyte.gz.part \n",
      ">> [4.4 KB/4.4 KB] 23086% @3.7 MB/s,[0s remaining, 0s elapsed]        \n",
      "URL https://storage.googleapis.com/cvdf-datasets/mnist/t10k-labels-idx1-ubyte.gz downloaded to ./multi_mnist_data/t10k-labels-idx1-ubyte.gz \n"
     ]
    }
   ],
   "source": [
    "def load_data():\n",
    "    inpath = './multi_mnist_data'\n",
    "    _, (X_np, Y) = multi_mnist(inpath, max_digits=2, canvas_size=50, seed=42)\n",
    "    X_np = X_np.astype(np.float32)\n",
    "    X_np /= 255.0\n",
    "    X = Variable(torch.from_numpy(X_np))\n",
    "    return X\n",
    "\n",
    "X = load_data()"
   ]
  },
  {
   "cell_type": "markdown",
   "metadata": {},
   "source": [
    "Next we instantiate an instance of the AIR `nn.module`, which contains both the model and the guide (and all the associated neural networks). Here we take care to use same hyperparameters that were used during training. We also load the learned model and guide parameters from disk."
   ]
  },
  {
   "cell_type": "code",
   "execution_count": 25,
   "metadata": {
    "collapsed": true
   },
   "outputs": [],
   "source": [
    "air = AIR(\n",
    "    num_steps=3,\n",
    "    x_size=50,\n",
    "    z_what_size=50,\n",
    "    window_size=28,\n",
    "    encoder_net=[200],\n",
    "    decoder_net=[200],\n",
    "    predict_net=[200],\n",
    "    bl_predict_net=[200],\n",
    "    rnn_hidden_size=256,\n",
    "    decoder_output_use_sigmoid=True,\n",
    "    decoder_output_bias=-2,\n",
    "    likelihood_sd=0.3\n",
    ")   \n",
    "\n",
    "air.load_state_dict(torch.load('air.pyro',\n",
    "                    map_location={'cuda:0':'cpu'}))"
   ]
  },
  {
   "cell_type": "markdown",
   "metadata": {},
   "source": [
    "Let's pick some datapoints from the test set to reconstruct and visualize:"
   ]
  },
  {
   "cell_type": "code",
   "execution_count": 26,
   "metadata": {
    "collapsed": true
   },
   "outputs": [],
   "source": [
    "ix = torch.LongTensor([9906, 1879, 5650,  967, 7420, 7240, 2755, 9390,   42, 5584])\n",
    "n_images = len(ix)\n",
    "examples_to_viz = X[ix]"
   ]
  },
  {
   "cell_type": "markdown",
   "metadata": {},
   "source": [
    "Finally we do the reconstruction and visualization."
   ]
  },
  {
   "cell_type": "code",
   "execution_count": 27,
   "metadata": {},
   "outputs": [
    {
     "data": {
      "image/png": "[encoded data removed]",
      "text/plain": [
       "<matplotlib.figure.Figure at 0x11edbee50>"
      ]
     },
     "metadata": {},
     "output_type": "display_data"
    }
   ],
   "source": [
    "params = { 'figure.figsize': [8, 1.6] }   \n",
    "plt.rcParams.update(params)\n",
    "f, axarr = plt.subplots(2,n_images)\n",
    "\n",
    "for i in range(n_images):\n",
    "    img = arr2img(examples_to_viz[i].data.numpy()).convert('RGB')\n",
    "    axarr[0,i].imshow(img)\n",
    "    axarr[0,i].axis('off')\n",
    "\n",
    "# run the guide and store the sampled random variables in the trace\n",
    "trace = poutine.trace(air.guide).get_trace(examples_to_viz, None)\n",
    "# run the prior against the samples in the trace\n",
    "z, recons = poutine.replay(air.prior, trace)(examples_to_viz.size(0))\n",
    "# extract the sampled random variables needed to generate the visualization\n",
    "z_wheres = tensor_to_objs(latents_to_tensor(z))\n",
    "# make the visualization\n",
    "recon_imgs = draw_many(recons, z_wheres)\n",
    "    \n",
    "for i in range(n_images):\n",
    "    axarr[1,i].imshow(recon_imgs[i])\n",
    "    axarr[1,i].axis('off')\n",
    "\n",
    "plt.subplots_adjust(left=0.02, bottom=0.04, right=0.98, top=0.96, wspace=0.1, hspace=0.1)\n",
    "plt.savefig('air_multi_mnist_recons.png', dpi=400)\n",
    "plt.show()"
   ]
  },
  {
   "cell_type": "markdown",
   "metadata": {},
   "source": [
    "The images in the top row are from the test set; the corresponding reconstructions are in the bottom row.\n",
    "Note that the small digits at the top left of each reconstructed image show the total number of objects used in the reconstruction, while the colored boxes denote the image patches used (i.e. the positions of each reconstructed object).\n",
    "\n",
    "For a more a complete implementation with results please see the [tutorial](http://pyro.ai/examples/air.html)."
   ]
  },
  {
   "cell_type": "markdown",
   "metadata": {},
   "source": [
    "## Pyro links\n",
    "\n",
    "[Pyro website](http://pyro.ai)<br>\n",
    "[VAE tutorial](http://pyro.ai/examples/vae.html)<br>\n",
    "[AIR tutorial](http://pyro.ai/examples/air.html)<br>\n",
    "[Documentation](http://docs.pyro.ai)<br>\n",
    "[Pyro GitHub](http://github.com/uber/pyro)<br>\n",
    "[Pyro Forum](http://forum.pyro.ai)\n",
    "\n",
    "## References\n",
    "\n",
    "[1] `Auto-Encoding Variational Bayes`,<br/>&nbsp;&nbsp;&nbsp;&nbsp;\n",
    "Diederik P Kingma, Max Welling\n",
    "\n",
    "[2] `Stochastic Backpropagation and Approximate Inference in Deep Generative Models`,\n",
    "<br/>&nbsp;&nbsp;&nbsp;&nbsp;\n",
    "Danilo Jimenez Rezende, Shakir Mohamed, Daan Wierstra\n",
    "\n",
    "[3] `Attend, Infer, Repeat: Fast Scene Understanding with Generative Models`\n",
    "<br />&nbsp;&nbsp;&nbsp;&nbsp;\n",
    "S. M. Ali Eslami and Nicolas Heess and Theophane Weber and Yuval Tassa and Koray Kavukcuoglu and Geoffrey E. Hinton\n",
    "\n",
    "[4] `Spatial Transformer Networks`\n",
    "<br />&nbsp;&nbsp;&nbsp;&nbsp;\n",
    "Max Jaderberg and Karen Simonyan and Andrew Zisserman"
   ]
  }
 ],
 "metadata": {
  "kernelspec": {
   "display_name": "Python 3",
   "language": "python",
   "name": "python3"
  },
  "language_info": {
   "codemirror_mode": {
    "name": "ipython",
    "version": 3
   },
   "file_extension": ".py",
   "mimetype": "text/x-python",
   "name": "python",
   "nbconvert_exporter": "python",
   "pygments_lexer": "ipython3",
   "version": "3.6.3"
  }
 },
 "nbformat": 4,
 "nbformat_minor": 2
}
